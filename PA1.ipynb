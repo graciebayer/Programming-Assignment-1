{
 "cells": [
  {
   "cell_type": "code",
   "execution_count": 18,
   "id": "8015e693",
   "metadata": {},
   "outputs": [
    {
     "data": {
      "text/plain": [
       "44.3"
      ]
     },
     "execution_count": 18,
     "metadata": {},
     "output_type": "execute_result"
    }
   ],
   "source": [
    "float (\"44.3\")"
   ]
  },
  {
   "cell_type": "code",
   "execution_count": 19,
   "id": "bafd5295",
   "metadata": {},
   "outputs": [
    {
     "data": {
      "text/plain": [
       "16"
      ]
     },
     "execution_count": 19,
     "metadata": {},
     "output_type": "execute_result"
    }
   ],
   "source": [
    "int (\"16\")"
   ]
  },
  {
   "cell_type": "markdown",
   "id": "e3b28aa4",
   "metadata": {},
   "source": [
    "# CS150-01 Programming Assignment 1 - Submitting Project to GitHub"
   ]
  },
  {
   "cell_type": "markdown",
   "id": "483c807b",
   "metadata": {},
   "source": [
    "## Gracie Bayer - Professor Sarkar - Fall 2021"
   ]
  },
  {
   "cell_type": "markdown",
   "id": "6232c613",
   "metadata": {},
   "source": [
    "### Chapter 2 - Intro to Python Programming - Deitel & Deitel"
   ]
  },
  {
   "cell_type": "code",
   "execution_count": 35,
   "id": "1d4f5dc8",
   "metadata": {},
   "outputs": [
    {
     "name": "stdout",
     "output_type": "stream",
     "text": [
      "The sum is 60.3\n"
     ]
    }
   ],
   "source": [
    "print('The sum is', 44.3 + 16)"
   ]
  },
  {
   "cell_type": "code",
   "execution_count": 36,
   "id": "1ab6a3da",
   "metadata": {},
   "outputs": [
    {
     "name": "stdout",
     "output_type": "stream",
     "text": [
      "The difference is 28.299999999999997\n"
     ]
    }
   ],
   "source": [
    "print('The difference is', 44.3 - 16)"
   ]
  },
  {
   "cell_type": "code",
   "execution_count": 37,
   "id": "dfc6dcc2",
   "metadata": {},
   "outputs": [
    {
     "name": "stdout",
     "output_type": "stream",
     "text": [
      "The product is 708.8\n"
     ]
    }
   ],
   "source": [
    "print('The product is', 44.3 * 16)"
   ]
  },
  {
   "cell_type": "code",
   "execution_count": 38,
   "id": "de5ece26",
   "metadata": {},
   "outputs": [
    {
     "name": "stdout",
     "output_type": "stream",
     "text": [
      "The quotient is 2.76875\n"
     ]
    }
   ],
   "source": [
    "print('The quotient is', 44.3 / 16)"
   ]
  }
 ],
 "metadata": {
  "kernelspec": {
   "display_name": "Python 3",
   "language": "python",
   "name": "python3"
  },
  "language_info": {
   "codemirror_mode": {
    "name": "ipython",
    "version": 3
   },
   "file_extension": ".py",
   "mimetype": "text/x-python",
   "name": "python",
   "nbconvert_exporter": "python",
   "pygments_lexer": "ipython3",
   "version": "3.8.8"
  }
 },
 "nbformat": 4,
 "nbformat_minor": 5
}
